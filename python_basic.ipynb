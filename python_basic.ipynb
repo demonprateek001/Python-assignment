{
  "cells": [
    {
      "cell_type": "markdown",
      "source": [
        "**Python** **Basics** **Theortical** **Answer**"
      ],
      "metadata": {
        "id": "8xipkLz5nRkC"
      }
    },
    {
      "cell_type": "markdown",
      "source": [
        "1. What is Python, and why is it popular?\n",
        "  - Python is a verstile, high level, interpreted programing language known for its readability and ease of use. It's popular for due to its simple syntax, extensive libraries, and adaptability to various fields like web development, data science, and machine learning.\n",
        "2. What is an interpreter in Python?\n",
        "  - In Python, an interpreter is a program that reads and executes Python code line by line, without requiring it to be compiled into machine code beforehand. It translates each high-level statement into lower-level instructions that the computer can understand and run.\n",
        "3. What are pre-defined keywords in Python?\n",
        "  - Keywords are predefined, reserved words used in Python programming that have special meanings to the compiler. We cannot use a keyword as a variable name, function name, or any other identifier. They are used to define the syntax and structure of the Python language.\n",
        "4. Can keywords be used as variable names?\n",
        "  - No, keywords cannot be used as variable names in programming languages like Python, and Java\n",
        "5. What is mutability in Python?\n",
        "  - Mutability in Python refers to an object's ability to be modified after its creation. Mutable objects can have their contents or state changed without creating a new object. This means that you can directly alter the object's value by adding, removing, or modifying elements.\n",
        "6.  Why are lists mutable, but tuples are immutable?\n",
        "  - Mutability in Python refers to an object's ability to be modified after its creation. Mutable objects can have their contents or state changed without creating a new object. This means that you can directly alter the object's value by adding, removing, or modifying elements.\n",
        "\n",
        "7. What is the difference between “==” and “is” operators in Python?\n",
        "  - The == and is operators in Python serve different purposes when comparing objects.\n",
        "\n",
        "     - == (Equality Operator)\n",
        "\n",
        "\n",
        "    1.Compares the values of two objects.\n",
        "\n",
        "    2.Checks if the content or data held by the objects is the same.\n",
        "\n",
        "    3.Returns True if the values are equal, False otherwise\n",
        "\n",
        "        \n",
        " -     is (Identity Operator)\n",
        "\n",
        "\n",
        "    1.Compares the identity of two objects.\n",
        "\n",
        "    2.Checks if two variables refer to the exact same object in memory.\n",
        "\n",
        "    3 Returns True if both variables point to the same object, False otherwise.\n",
        "\n",
        "8. What are logical operators in Python?\n",
        "  - Python offers three logical operators: and, or, and not. These operators, also known as Boolean operators, evaluate multiple conditions and determine an expression's overall truth value.\n",
        "9. What is type casting in Python?\n",
        " - Type Casting is the method to convert the Python variable datatype into a certain data type in order to perform the required operation by users. In this article, we will see the various techniques for typecasting.\n",
        "10. What is the difference between implicit and explicit type casting?\n",
        "   - Implicit type casting, also known as widening or upcasting, is when the compiler automatically converts a data type to a larger or more inclusive type. Explicit type casting, also called narrowing or downcasting, requires the programmer to use a cast operator to manually convert a data type to a smaller or less inclusive type\n",
        "   - Implicit casting is done without you needing to ask for it and explicit casting is done when you ask for it\n",
        "11. What is the purpose of conditional statements in Python?\n",
        "   - Conditional statements in Python are used to execute certain blocks of code based on specific conditions.\n",
        "12. How does the elif statement work?\n",
        "   - Elif' stands for 'else if' and is used in Python programming to test multiple conditions. It is written following an if statement in Python to check an alternative condition if the first condition is false. The code block under the elif statement will be executed only if its condition is true.\n",
        "13. What is the difference between for and while loops?\n",
        "  - The primary difference between for and while loops lies in their purpose and the nature of their execution. for loops are typically used when you know how many times you want to iterate or when you need to process each element of a sequence, while while loops are used when you want to repeat a block of code until a certain condition is met, which may not be a predetermined number of times.\n",
        "14. Describe a scenario where a while loop is more suitable than a for loop.\n",
        "  - Prefer a while loop when the condition has nothing to do with a collection/array and does not require a set number of iterations. Prefer a foreach or a for loop whenever the loop is related to a collection or array."
      ],
      "metadata": {
        "id": "9b9uiG3uFAi-"
      }
    },
    {
      "cell_type": "markdown",
      "source": [
        "**Python Basics Practical answer**"
      ],
      "metadata": {
        "id": "5QtWtzKlnglv"
      }
    },
    {
      "cell_type": "code",
      "source": [
        "print(\"hello world!\")"
      ],
      "metadata": {
        "colab": {
          "base_uri": "https://localhost:8080/"
        },
        "id": "82KoDLxQYn07",
        "outputId": "a7ce7f66-30e5-43c6-8358-8e5c52acc50a"
      },
      "execution_count": 4,
      "outputs": [
        {
          "output_type": "stream",
          "name": "stdout",
          "text": [
            "hello world!\n"
          ]
        }
      ]
    },
    {
      "cell_type": "code",
      "source": [
        "name = \"prateek pal\"\n",
        "age = 25\n",
        "\n",
        "print(\"Name:\", name)\n",
        "print(\"Age:\", age)"
      ],
      "metadata": {
        "colab": {
          "base_uri": "https://localhost:8080/"
        },
        "id": "356upfhiZaKu",
        "outputId": "e47a69dd-bd33-4166-d3fc-ab09fcf22d6f"
      },
      "execution_count": 11,
      "outputs": [
        {
          "output_type": "stream",
          "name": "stdout",
          "text": [
            "Name: prateek pal\n",
            "Age: 25\n"
          ]
        }
      ]
    },
    {
      "cell_type": "code",
      "source": [
        "import keyword\n",
        "\n",
        "print(keyword.kwlist)"
      ],
      "metadata": {
        "colab": {
          "base_uri": "https://localhost:8080/"
        },
        "id": "LNPKKeBec1NZ",
        "outputId": "d121b244-ee79-4b23-8d98-e8fdde75d8b9"
      },
      "execution_count": 12,
      "outputs": [
        {
          "output_type": "stream",
          "name": "stdout",
          "text": [
            "['False', 'None', 'True', 'and', 'as', 'assert', 'async', 'await', 'break', 'class', 'continue', 'def', 'del', 'elif', 'else', 'except', 'finally', 'for', 'from', 'global', 'if', 'import', 'in', 'is', 'lambda', 'nonlocal', 'not', 'or', 'pass', 'raise', 'return', 'try', 'while', 'with', 'yield']\n"
          ]
        }
      ]
    },
    {
      "cell_type": "code",
      "source": [
        "import keyword\n",
        "\n",
        "def is_keyword(word):\n",
        "    \"\"\"Checks if a given word is a Python keyword.\n",
        "\n",
        "    Args:\n",
        "        word: The word to check.\n",
        "\n",
        "    Returns:\n",
        "        True if the word is a keyword, False otherwise.\n",
        "    \"\"\"\n",
        "    return keyword.iskeyword(word)\n",
        "\n",
        "# Example usage\n",
        "word1 = \"for\"\n",
        "word2 = \"hello\"\n",
        "\n",
        "print(f\"'{word1}' is a keyword: {is_keyword(word1)}\")\n",
        "print(f\"'{word2}' is a keyword: {is_keyword(word2)}\")"
      ],
      "metadata": {
        "colab": {
          "base_uri": "https://localhost:8080/"
        },
        "id": "UlfLN1DDdEiM",
        "outputId": "30d1611d-f213-48e0-ec7d-d97d2d23ff66"
      },
      "execution_count": 13,
      "outputs": [
        {
          "output_type": "stream",
          "name": "stdout",
          "text": [
            "'for' is a keyword: True\n",
            "'hello' is a keyword: False\n"
          ]
        }
      ]
    },
    {
      "cell_type": "code",
      "source": [
        "my_list = [1, 2, 3]\n",
        "print(\"Original list:\", my_list) # Output: Original list: [1, 2, 3]\n",
        "\n",
        "my_list[1] = 4\n",
        "print(\"Modified list:\", my_list) # Output: Modified list: [1, 4, 3]\n",
        "\n",
        "my_tuple = (1, 2, 3)\n",
        "print(\"Original tuple:\", my_tuple) # Output: Original tuple: (1, 2, 3)\n",
        "\n",
        "try:\n",
        "    my_tuple[1] = 4\n",
        "except TypeError as e:\n",
        "    print(\"Error:\", e) # Output: Error: 'tuple' object does not support item assignment"
      ],
      "metadata": {
        "colab": {
          "base_uri": "https://localhost:8080/"
        },
        "id": "iCOzYfzUdje_",
        "outputId": "516fb1cc-bb46-4b53-d543-8dc1ddf0200b"
      },
      "execution_count": 16,
      "outputs": [
        {
          "output_type": "stream",
          "name": "stdout",
          "text": [
            "Original list: [1, 2, 3]\n",
            "Modified list: [1, 4, 3]\n",
            "Original tuple: (1, 2, 3)\n",
            "Error: 'tuple' object does not support item assignment\n"
          ]
        }
      ]
    },
    {
      "cell_type": "code",
      "source": [
        " def modify_arguments(immutable_arg, mutable_arg):\n",
        "    \"\"\"\n",
        "    Demonstrates the behavior of mutable and immutable arguments.\n",
        "\n",
        "    Args:\n",
        "      immutable_arg: An immutable object (e.g., integer, string, tuple).\n",
        "      mutable_arg: A mutable object (e.g., list, dictionary).\n",
        "    \"\"\"\n",
        "    # Attempt to modify the immutable argument\n",
        "    immutable_arg = immutable_arg + 1  # Creates a new object\n",
        "    print(f\"Inside function - immutable_arg: {immutable_arg}\")\n",
        "\n",
        "    # Modify the mutable argument\n",
        "    mutable_arg.append(4) # Modifies the original object\n",
        "    print(f\"Inside function - mutable_arg: {mutable_arg}\")\n",
        "\n",
        "# Example usage\n",
        "immutable_value = 5\n",
        "mutable_value = [1, 2, 3]\n",
        "\n",
        "print(f\"Before function call - immutable_value: {immutable_value}\")\n",
        "print(f\"Before function call - mutable_value: {mutable_value}\")\n",
        "\n",
        "modify_arguments(immutable_value, mutable_value)\n",
        "\n",
        "print(f\"After function call - immutable_value: {immutable_value}\")\n",
        "print(f\"After function call - mutable_value: {mutable_value}\")"
      ],
      "metadata": {
        "colab": {
          "base_uri": "https://localhost:8080/"
        },
        "id": "AOzxzBodftTN",
        "outputId": "7676659a-40ff-426f-f873-db039426aa4e"
      },
      "execution_count": 17,
      "outputs": [
        {
          "output_type": "stream",
          "name": "stdout",
          "text": [
            "Before function call - immutable_value: 5\n",
            "Before function call - mutable_value: [1, 2, 3]\n",
            "Inside function - immutable_arg: 6\n",
            "Inside function - mutable_arg: [1, 2, 3, 4]\n",
            "After function call - immutable_value: 5\n",
            "After function call - mutable_value: [1, 2, 3, 4]\n"
          ]
        }
      ]
    },
    {
      "cell_type": "code",
      "source": [
        "def add(x, y):\n",
        "    \"\"\"Performs addition of two numbers.\"\"\"\n",
        "    return x + y\n",
        "\n",
        "def subtract(x, y):\n",
        "    \"\"\"Performs subtraction of two numbers.\"\"\"\n",
        "    return x - y\n",
        "\n",
        "def multiply(x, y):\n",
        "    \"\"\"Performs multiplication of two numbers.\"\"\"\n",
        "    return x * y\n",
        "\n",
        "def divide(x, y):\n",
        "    \"\"\"Performs division of two numbers. Handles division by zero.\"\"\"\n",
        "    if y == 0:\n",
        "        return \"Error: Cannot divide by zero.\"\n",
        "    else:\n",
        "        return x / y\n",
        "\n",
        "# Get input from the user\n",
        "num1 = float(input(\"Enter the first number: \"))\n",
        "num2 = float(input(\"Enter the second number: \"))\n",
        "\n",
        "# Perform and display the operations\n",
        "print(\"Addition:\", add(num1, num2))\n",
        "print(\"Subtraction:\", subtract(num1, num2))\n",
        "print(\"Multiplication:\", multiply(num1, num2))\n",
        "print(\"Division:\", divide(num1, num2))"
      ],
      "metadata": {
        "colab": {
          "base_uri": "https://localhost:8080/"
        },
        "id": "WN8dzMomgG9a",
        "outputId": "56c0e146-14a2-4602-df22-41ab1783ac83"
      },
      "execution_count": 18,
      "outputs": [
        {
          "output_type": "stream",
          "name": "stdout",
          "text": [
            "Enter the first number: 22\n",
            "Enter the second number: 5\n",
            "Addition: 27.0\n",
            "Subtraction: 17.0\n",
            "Multiplication: 110.0\n",
            "Division: 4.4\n"
          ]
        }
      ]
    },
    {
      "cell_type": "code",
      "source": [
        "# Logical AND operator (and)\n",
        "# Returns True if both operands are True\n",
        "x = 5\n",
        "y = 10\n",
        "print(x > 0 and y < 15)  # Output: True\n",
        "print(x > 5 and y < 15)  # Output: False\n",
        "\n",
        "# Logical OR operator (or)\n",
        "# Returns True if at least one operand is True\n",
        "x = 5\n",
        "y = 10\n",
        "print(x > 0 or y > 20)  # Output: True\n",
        "print(x > 5 or y > 20)  # Output: False\n",
        "\n",
        "# Logical NOT operator (not)\n",
        "# Returns True if operand is False and vice versa\n",
        "x = 5\n",
        "print(not x > 0)  # Output: False\n",
        "print(not x > 10)  # Output: True\n"
      ],
      "metadata": {
        "colab": {
          "base_uri": "https://localhost:8080/"
        },
        "id": "tIrWzSIigMGW",
        "outputId": "ec5e47ee-c6cb-4bc7-927d-efb05bbeca22"
      },
      "execution_count": 19,
      "outputs": [
        {
          "output_type": "stream",
          "name": "stdout",
          "text": [
            "True\n",
            "False\n",
            "True\n",
            "False\n",
            "False\n",
            "True\n"
          ]
        }
      ]
    },
    {
      "cell_type": "code",
      "source": [
        "def convert_input():\n",
        "    user_input = input(\"Enter a value: \")\n",
        "\n",
        "    try:\n",
        "        # Attempt to convert to integer\n",
        "        integer_value = int(user_input)\n",
        "        print(f\"Integer: {integer_value}\")\n",
        "    except ValueError:\n",
        "        print(\"Not an integer.\")\n",
        "\n",
        "    try:\n",
        "        # Attempt to convert to float\n",
        "        float_value = float(user_input)\n",
        "        print(f\"Float: {float_value}\")\n",
        "    except ValueError:\n",
        "        print(\"Not a float.\")\n",
        "\n",
        "    # Attempt to convert to boolean\n",
        "    if user_input.lower() == \"true\":\n",
        "        boolean_value = True\n",
        "    elif user_input.lower() == \"false\":\n",
        "        boolean_value = False\n",
        "    else:\n",
        "      try:\n",
        "        boolean_value = bool(int(user_input))\n",
        "      except ValueError:\n",
        "        boolean_value = None\n",
        "    if boolean_value is not None:\n",
        "        print(f\"Boolean: {boolean_value}\")\n",
        "    else:\n",
        "        print(\"Not a boolean.\")\n",
        "\n",
        "convert_input()\n"
      ],
      "metadata": {
        "colab": {
          "base_uri": "https://localhost:8080/"
        },
        "id": "dIJSRgzPhyEo",
        "outputId": "f2be882e-946d-48fc-af6f-879eb29143f5"
      },
      "execution_count": 22,
      "outputs": [
        {
          "output_type": "stream",
          "name": "stdout",
          "text": [
            "Enter a value: 55\n",
            "Integer: 55\n",
            "Float: 55.0\n",
            "Boolean: True\n"
          ]
        }
      ]
    },
    {
      "cell_type": "code",
      "source": [
        " # Sample list with mixed data types\n",
        "my_list = [1, 2.5, \"3\", True]\n",
        "\n",
        "# Convert each element to an integer\n",
        "int_list = [int(x) for x in my_list]\n",
        "print(\"Integer list:\", int_list)\n",
        "\n",
        "# Convert each element to a float\n",
        "float_list = [float(x) for x in my_list]\n",
        "print(\"Float list:\", float_list)\n",
        "\n",
        "# Convert each element to a string\n",
        "str_list = [str(x) for x in my_list]\n",
        "print(\"String list:\", str_list)\n",
        "\n",
        "# Convert each element to a boolean\n",
        "bool_list = [bool(x) for x in my_list]\n",
        "print(\"Boolean list:\", bool_list)\n",
        "\n",
        "# Example with a list of strings that can be converted to integers\n",
        "str_numbers = [\"10\", \"20\", \"30\"]\n",
        "int_numbers = [int(x) for x in str_numbers]\n",
        "print(\"Integer numbers list:\", int_numbers)\n",
        "\n",
        "# Example of type casting with error handling\n",
        "mixed_list = [\"10\", \"abc\", \"20\", \"def\"]\n",
        "converted_list = []\n",
        "for item in mixed_list:\n",
        "    try:\n",
        "        converted_list.append(int(item))\n",
        "    except ValueError:\n",
        "        converted_list.append(item) # Keep original if not convertible\n",
        "print(\"Converted list with error handling:\", converted_list)"
      ],
      "metadata": {
        "colab": {
          "base_uri": "https://localhost:8080/"
        },
        "id": "mdnt4AqciIHo",
        "outputId": "8c6faf29-9fff-4ac0-b3c6-0dcfed6ece38"
      },
      "execution_count": 23,
      "outputs": [
        {
          "output_type": "stream",
          "name": "stdout",
          "text": [
            "Integer list: [1, 2, 3, 1]\n",
            "Float list: [1.0, 2.5, 3.0, 1.0]\n",
            "String list: ['1', '2.5', '3', 'True']\n",
            "Boolean list: [True, True, True, True]\n",
            "Integer numbers list: [10, 20, 30]\n",
            "Converted list with error handling: [10, 'abc', 20, 'def']\n"
          ]
        }
      ]
    },
    {
      "cell_type": "code",
      "source": [
        "def check_number(number):\n",
        "  \"\"\"\n",
        "  Checks if a number is positive, negative, or zero.\n",
        "\n",
        "  Args:\n",
        "    number: The number to check.\n",
        "\n",
        "  Returns:\n",
        "    A string indicating whether the number is positive, negative, or zero.\n",
        "  \"\"\"\n",
        "  if number > 0:\n",
        "    return \"positive\"\n",
        "  elif number < 0:\n",
        "    return \"negative\"\n",
        "  else:\n",
        "    return \"zero\"\n",
        "    # Example Usage:\n",
        "number = int(input(\"Enter a number: \"))\n",
        "result = check_number(number)\n",
        "print(f\"The number {number} is {result}.\")"
      ],
      "metadata": {
        "colab": {
          "base_uri": "https://localhost:8080/"
        },
        "id": "0U2oJWXbjxH1",
        "outputId": "9fd92253-366d-444a-fe6c-e3024fbae4d2"
      },
      "execution_count": 31,
      "outputs": [
        {
          "output_type": "stream",
          "name": "stdout",
          "text": [
            "Enter a number: 0\n",
            "The number 0 is zero.\n"
          ]
        }
      ]
    },
    {
      "cell_type": "code",
      "source": [
        "for i in range(1, 11):\n",
        "    print(i)\n",
        ""
      ],
      "metadata": {
        "colab": {
          "base_uri": "https://localhost:8080/"
        },
        "id": "fabjJ95qkQ0Q",
        "outputId": "a26df42f-633e-4787-8592-e47238708eaa"
      },
      "execution_count": 32,
      "outputs": [
        {
          "output_type": "stream",
          "name": "stdout",
          "text": [
            "1\n",
            "2\n",
            "3\n",
            "4\n",
            "5\n",
            "6\n",
            "7\n",
            "8\n",
            "9\n",
            "10\n"
          ]
        }
      ]
    },
    {
      "cell_type": "code",
      "source": [
        "sum_of_even = 0\n",
        "for number in range(2, 51, 2):\n",
        "    sum_of_even += number\n",
        "print(\"The sum of even numbers between 1 and 50 is:\", sum_of_even)\n"
      ],
      "metadata": {
        "colab": {
          "base_uri": "https://localhost:8080/"
        },
        "id": "4d_nr1Q8ky0Q",
        "outputId": "81e4a86f-74ec-4a56-db2f-2e0b3322819d"
      },
      "execution_count": 33,
      "outputs": [
        {
          "output_type": "stream",
          "name": "stdout",
          "text": [
            "The sum of even numbers between 1 and 50 is: 650\n"
          ]
        }
      ]
    },
    {
      "cell_type": "code",
      "source": [
        "def reverse_string(s):\n",
        "    reversed_s = \"\"\n",
        "    length = len(s) - 1\n",
        "    while length >= 0:\n",
        "        reversed_s += s[length]\n",
        "        length -= 1\n",
        "    return reversed_s\n",
        "\n",
        "# Example usage:\n",
        "input_string = \"hello\"\n",
        "reversed_string = reverse_string(input_string)\n",
        "print(f\"Original string: {input_string}\")\n",
        "print(f\"Reversed string: {reversed_string}\")"
      ],
      "metadata": {
        "colab": {
          "base_uri": "https://localhost:8080/"
        },
        "id": "XFm7LvRqlCqa",
        "outputId": "826b3eb3-c4c2-437a-865b-a9d30f29fd57"
      },
      "execution_count": 34,
      "outputs": [
        {
          "output_type": "stream",
          "name": "stdout",
          "text": [
            "Original string: hello\n",
            "Reversed string: olleh\n"
          ]
        }
      ]
    },
    {
      "cell_type": "code",
      "source": [
        "def factorial_while_loop(n):\n",
        "    \"\"\"Calculates the factorial of a non-negative integer using a while loop.\n",
        "\n",
        "    Args:\n",
        "        n: A non-negative integer.\n",
        "\n",
        "    Returns:\n",
        "        The factorial of n, or an error message if n is negative.\n",
        "    \"\"\"\n",
        "    if n < 0:\n",
        "        return \"Factorial is not defined for negative numbers.\"\n",
        "\n",
        "    result = 1\n",
        "    while n > 0:\n",
        "        result *= n\n",
        "        n -= 1\n",
        "    return result\n",
        "\n",
        "if __name__ == \"__main__\":\n",
        "    try:\n",
        "        num = int(input(\"Enter a non-negative integer: \"))\n",
        "        fact = factorial_while_loop(num)\n",
        "        print(f\"The factorial of {num} is {fact}\")\n",
        "    except ValueError:\n",
        "        print(\"Invalid input. Please enter an integer.\")"
      ],
      "metadata": {
        "colab": {
          "base_uri": "https://localhost:8080/"
        },
        "id": "nnTeyQkKlSQ1",
        "outputId": "d37259f2-81d5-4aa0-f6e7-4e442e7d67b2"
      },
      "execution_count": 36,
      "outputs": [
        {
          "output_type": "stream",
          "name": "stdout",
          "text": [
            "Enter a non-negative integer: 22\n",
            "The factorial of 22 is 1124000727777607680000\n"
          ]
        }
      ]
    }
  ],
  "metadata": {
    "colab": {
      "provenance": []
    },
    "kernelspec": {
      "display_name": "Python 3",
      "name": "python3"
    }
  },
  "nbformat": 4,
  "nbformat_minor": 0
}